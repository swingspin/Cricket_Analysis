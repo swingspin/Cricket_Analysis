{
 "cells": [
  {
   "cell_type": "markdown",
   "id": "11c84669",
   "metadata": {},
   "source": [
    "### code to merge all csv files in a given folder"
   ]
  },
  {
   "cell_type": "code",
   "execution_count": 4,
   "id": "78a39def",
   "metadata": {},
   "outputs": [],
   "source": [
    "#import necessary libraries and insert file path\n",
    "import os\n",
    "import glob\n",
    "import pandas as pd\n",
    "os.chdir(\"F:/data science/dissertation/t20s_male_csvor\")\n",
    "    #F:/data science/dissertation"
   ]
  },
  {
   "cell_type": "code",
   "execution_count": 5,
   "id": "42c8d9b8",
   "metadata": {},
   "outputs": [],
   "source": [
    "#select all csv files in a give folder\n",
    "extension = 'csv'\n",
    "all_filenames = [i for i in glob.glob('*.{}'.format(extension))]"
   ]
  },
  {
   "cell_type": "code",
   "execution_count": 6,
   "id": "66374c95",
   "metadata": {},
   "outputs": [],
   "source": [
    "#combine all files in the folder\n",
    "combined_csv = pd.concat([pd.read_csv(f) for f in all_filenames ])\n",
    "#export to csv\n",
    "combined_csv.to_csv( \"1619_csv_01.csv\", index=False, encoding='utf-8-sig')"
   ]
  }
 ],
 "metadata": {
  "kernelspec": {
   "display_name": "Python 3 (ipykernel)",
   "language": "python",
   "name": "python3"
  },
  "language_info": {
   "codemirror_mode": {
    "name": "ipython",
    "version": 3
   },
   "file_extension": ".py",
   "mimetype": "text/x-python",
   "name": "python",
   "nbconvert_exporter": "python",
   "pygments_lexer": "ipython3",
   "version": "3.9.7"
  }
 },
 "nbformat": 4,
 "nbformat_minor": 5
}
